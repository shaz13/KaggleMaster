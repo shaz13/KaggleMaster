{
 "cells": [
  {
   "cell_type": "code",
   "execution_count": 1,
   "metadata": {
    "collapsed": true
   },
   "outputs": [],
   "source": [
    "import glob, re\n",
    "import numpy as np\n",
    "import pandas as pd\n",
    "from datetime import datetime\n",
    "\n",
    "data = {\n",
    "    'air_visit_data': pd.read_csv('../input/air_visit_data.csv'),\n",
    "    'air_store_info': pd.read_csv('../input/air_store_info.csv'),\n",
    "    'hpg_store_info': pd.read_csv('../input/hpg_store_info.csv'),\n",
    "    'air_reserve': pd.read_csv('../input/air_reserve.csv'),\n",
    "    'hpg_reserve': pd.read_csv('../input/hpg_reserve.csv'),\n",
    "    'store_id_relation': pd.read_csv('../input/store_id_relation.csv'),\n",
    "    'sample_submission': pd.read_csv('../input/sample_submission.csv'),\n",
    "    'date_info': pd.read_csv('../input/date_info.csv').rename(columns={'calendar_date':'visit_date'})\n",
    "    }"
   ]
  },
  {
   "cell_type": "markdown",
   "metadata": {},
   "source": [
    "The dataframes of **hpg_reserve** and **store_id_relations** are merged on the `hpg_store_id` which adds the `air_store_id` relations to the dataframe"
   ]
  },
  {
   "cell_type": "code",
   "execution_count": 2,
   "metadata": {
    "collapsed": true
   },
   "outputs": [],
   "source": [
    "data['hpg_reserve'] = pd.merge(data['hpg_reserve'], data['store_id_relation'], how='inner', on=['hpg_store_id'])"
   ]
  },
  {
   "cell_type": "markdown",
   "metadata": {},
   "source": [
    "Converting to the date time format and taking out difference of vist and reserve dates on both `['air_reserve', 'hpg_reserve']`"
   ]
  },
  {
   "cell_type": "code",
   "execution_count": 4,
   "metadata": {
    "collapsed": true
   },
   "outputs": [],
   "source": [
    "for df in ['air_reserve', 'hpg_reserve']:\n",
    "    data[df]['visit_datetime'] = pd.to_datetime(data[df]['visit_datetime'])\n",
    "    data[df]['visit_datetime'] = data[df]['visit_datetime'].dt.date\n",
    "    data[df]['reserve_datetime'] = pd.to_datetime(data[df]['reserve_datetime'])\n",
    "    data[df]['reserve_datetime'] = data[df]['reserve_datetime'].dt.date\n",
    "    data[df]['reserve_datetime_diff'] = data[df].apply(lambda r: (r['visit_datetime'] - r['reserve_datetime']).days, axis=1)"
   ]
  },
  {
   "cell_type": "code",
   "execution_count": null,
   "metadata": {
    "collapsed": true
   },
   "outputs": [],
   "source": [
    "Grouping by `['air_store_id','visit_datetime']` and then adding "
   ]
  },
  {
   "cell_type": "code",
   "execution_count": null,
   "metadata": {
    "collapsed": true
   },
   "outputs": [],
   "source": [
    "for df in ['air_reserve', 'hpg_reserve']:\n",
    "    tmp1 = data[df].groupby(['air_store_id','visit_datetime'], as_index=False)[['reserve_datetime_diff', 'reserve_visitors']].sum().rename(columns={'visit_datetime':'visit_date', 'reserve_datetime_diff': 'reserve_dt_diff_sum', 'reserve_visitors':'reserve_visitors_sum'})\n",
    "    tmp2 = data[df].groupby(['air_store_id','visit_datetime'], as_index=False)[['reserve_datetime_diff', 'reserve_visitors']].mean().rename(columns={'visit_datetime':'visit_date', 'reserve_datetime_diff': 'reserve_dt_diff_mean', 'reserve_visitors':'reserve_visitors_mean'})\n",
    "    tmp3 = data[df].groupby(['air_store_id','visit_datetime'], as_index=False)[['reserve_datetime_diff', 'reserve_visitors']].max().rename(columns={'visit_datetime':'visit_date', 'reserve_datetime_diff': 'reserve_dt_diff_max', 'reserve_visitors':'reserve_visitors_max'})\n",
    "    tmp4 = data[df].groupby(['air_store_id','visit_datetime'], as_index=False)[['reserve_datetime_diff', 'reserve_visitors']].min().rename(columns={'visit_datetime':'visit_date', 'reserve_datetime_diff': 'reserve_dt_diff_min', 'reserve_visitors':'reserve_visitors_min'})\n",
    "#     tmp5 = data[df].groupby(['air_store_id','visit_datetime'], as_index=False)[['reserve_datetime_diff', 'reserve_visitors']].count().rename(columns={'visit_datetime':'visit_date', 'reserve_datetime_diff': 'reserve_dt_diff_count', 'reserve_visitors':'reserve_visitors_count'})\n",
    "#     tmp6 = data[df].groupby(['air_store_id','visit_datetime'], as_index=False)[['reserve_datetime_diff', 'reserve_visitors']].diff().rename(columns={'visit_datetime':'visit_date', 'reserve_datetime_diff': 'reserve_dt_diff_diff', 'reserve_visitors':'reserve_visitors_diff'})\n",
    "    temp_all = pd.concat([tmp2, tmp3,tmp4], axis = 1)\n",
    "    temp_all = temp_all.loc[:,~temp_all.columns.duplicated()]\n",
    "    data[df] = pd.merge(tmp1, temp_all, how='inner', on=['air_store_id','visit_date'])"
   ]
  },
  {
   "cell_type": "code",
   "execution_count": null,
   "metadata": {},
   "outputs": [],
   "source": [
    "data['air_reserve'].head()"
   ]
  },
  {
   "cell_type": "code",
   "execution_count": null,
   "metadata": {},
   "outputs": [],
   "source": [
    "data['air_visit_data'].head()"
   ]
  },
  {
   "cell_type": "code",
   "execution_count": null,
   "metadata": {
    "collapsed": true,
    "scrolled": true
   },
   "outputs": [],
   "source": [
    "data['air_visit_data']['visit_date'] = pd.to_datetime(data['air_visit_data']['visit_date'])\n",
    "data['air_visit_data']['dow'] = data['air_visit_data']['visit_date'].dt.dayofweek\n",
    "data['air_visit_data']['year'] = data['air_visit_data']['visit_date'].dt.year\n",
    "data['air_visit_data']['month'] = data['air_visit_data']['visit_date'].dt.month\n",
    "data['air_visit_data']['quarter'] = data['air_visit_data']['visit_date'].dt.quarter\n",
    "data['air_visit_data']['visit_date'] = data['air_visit_data']['visit_date'].dt.date"
   ]
  },
  {
   "cell_type": "code",
   "execution_count": null,
   "metadata": {},
   "outputs": [],
   "source": [
    "data['sample_submission'].head()"
   ]
  },
  {
   "cell_type": "code",
   "execution_count": null,
   "metadata": {
    "collapsed": true
   },
   "outputs": [],
   "source": [
    "data['sample_submission']['visit_date'] = data['sample_submission']['id'].map(lambda x: str(x).split('_')[2])\n",
    "data['sample_submission']['air_store_id'] = data['sample_submission']['id'].map(lambda x: '_'.join(x.split('_')[:2]))\n",
    "data['sample_submission']['visit_date'] = pd.to_datetime(data['sample_submission']['visit_date'])\n",
    "data['sample_submission']['dow'] = data['sample_submission']['visit_date'].dt.dayofweek\n",
    "data['sample_submission']['year'] = data['sample_submission']['visit_date'].dt.year\n",
    "data['sample_submission']['month'] = data['sample_submission']['visit_date'].dt.month\n",
    "data['sample_submission']['quarter'] = data['sample_submission']['visit_date'].dt.quarter\n",
    "data['sample_submission']['visit_date'] = data['sample_submission']['visit_date'].dt.date"
   ]
  },
  {
   "cell_type": "code",
   "execution_count": null,
   "metadata": {
    "collapsed": true
   },
   "outputs": [],
   "source": [
    "unique_stores = data['sample_submission']['air_store_id'].unique()\n",
    "stores = pd.concat([pd.DataFrame({'air_store_id': unique_stores, 'dow': [i]*len(unique_stores)}) for i in range(7)], axis=0, ignore_index=True).reset_index(drop=True)"
   ]
  },
  {
   "cell_type": "code",
   "execution_count": null,
   "metadata": {},
   "outputs": [],
   "source": [
    "air_visit_data"
   ]
  },
  {
   "cell_type": "code",
   "execution_count": null,
   "metadata": {
    "collapsed": true
   },
   "outputs": [],
   "source": [
    "#sure it can be compressed...\n",
    "tmp = data['air_visit_data'].groupby(['air_store_id','dow'], as_index=False)['visitors'].min().rename(columns={'visitors':'min_visitors'})\n",
    "stores = pd.merge(stores, tmp, how='left', on=['air_store_id','dow']) \n",
    "tmp = data['air_visit_data'].groupby(['air_store_id','dow'], as_index=False)['visitors'].mean().rename(columns={'visitors':'mean_visitors'})\n",
    "stores = pd.merge(stores, tmp, how='left', on=['air_store_id','dow'])\n",
    "tmp = data['air_visit_data'].groupby(['air_store_id','dow'], as_index=False)['visitors'].median().rename(columns={'visitors':'median_visitors'})\n",
    "stores = pd.merge(stores, tmp, how='left', on=['air_store_id','dow'])\n",
    "tmp = data['air_visit_data'].groupby(['air_store_id','dow'], as_index=False)['visitors'].max().rename(columns={'visitors':'max_visitors'})\n",
    "stores = pd.merge(stores, tmp, how='left', on=['air_store_id','dow'])\n",
    "tmp = data['air_visit_data'].groupby(['air_store_id','dow'], as_index=False)['visitors'].count().rename(columns={'visitors':'count_observations'})\n",
    "stores = pd.merge(stores, tmp, how='left', on=['air_store_id','dow']) \n",
    "\n",
    "stores = pd.merge(stores, data['air_store_info'], how='left', on=['air_store_id']) "
   ]
  },
  {
   "cell_type": "code",
   "execution_count": null,
   "metadata": {},
   "outputs": [],
   "source": [
    "stores.head()"
   ]
  },
  {
   "cell_type": "code",
   "execution_count": null,
   "metadata": {
    "collapsed": true
   },
   "outputs": [],
   "source": [
    "data['date_info']['visit_date'] = pd.to_datetime(data['date_info']['visit_date'])\n",
    "data['date_info']['visit_date'] = data['date_info']['visit_date'].dt.date\n",
    "train = pd.merge(data['air_visit_data'], data['date_info'], how='left', on=['visit_date']) \n",
    "test = pd.merge(data['sample_submission'], data['date_info'], how='left', on=['visit_date']) "
   ]
  },
  {
   "cell_type": "code",
   "execution_count": null,
   "metadata": {
    "collapsed": true
   },
   "outputs": [],
   "source": [
    "\n",
    "train = pd.merge(train, stores, how='left', on=['air_store_id','dow']) \n",
    "test = pd.merge(test, stores, how='left', on=['air_store_id','dow'])"
   ]
  },
  {
   "cell_type": "code",
   "execution_count": null,
   "metadata": {
    "collapsed": true
   },
   "outputs": [],
   "source": [
    "for df in ['air_reserve', 'hpg_reserve']:\n",
    "    train = pd.merge(train, data[df], how='left', on=['air_store_id','visit_date']) \n",
    "    test = pd.merge(test, data[df], how='left', on=['air_store_id','visit_date'])"
   ]
  },
  {
   "cell_type": "code",
   "execution_count": null,
   "metadata": {
    "collapsed": true
   },
   "outputs": [],
   "source": [
    "\n",
    "train['id'] = train.apply(lambda r: '_'.join([str(r['air_store_id']), str(r['visit_date'])]), axis=1)\n"
   ]
  },
  {
   "cell_type": "code",
   "execution_count": null,
   "metadata": {},
   "outputs": [],
   "source": [
    "train.head()"
   ]
  },
  {
   "cell_type": "code",
   "execution_count": null,
   "metadata": {
    "collapsed": true
   },
   "outputs": [],
   "source": []
  }
 ],
 "metadata": {
  "kernelspec": {
   "display_name": "Python 3",
   "language": "python",
   "name": "python3"
  },
  "language_info": {
   "codemirror_mode": {
    "name": "ipython",
    "version": 3
   },
   "file_extension": ".py",
   "mimetype": "text/x-python",
   "name": "python",
   "nbconvert_exporter": "python",
   "pygments_lexer": "ipython3",
   "version": "3.6.3"
  }
 },
 "nbformat": 4,
 "nbformat_minor": 2
}
