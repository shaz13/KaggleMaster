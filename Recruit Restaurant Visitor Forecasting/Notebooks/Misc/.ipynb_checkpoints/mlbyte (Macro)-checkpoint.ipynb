{
 "cells": [
  {
   "cell_type": "code",
   "execution_count": 68,
   "metadata": {},
   "outputs": [
    {
     "name": "stdout",
     "output_type": "stream",
     "text": [
      "\n",
      "\u001b[1m\u001b[34m _______        ______  __   __ _______ _______\n",
      " |  |  | |      |_____]   \\_/      |    |______\n",
      " |  |  | |_____ |_____]    |       |    |______\n",
      "                                               \n",
      "\n",
      "\u001b[34m\u001b[22m                         ~ by Mohammad Shahebaz\n",
      "\u001b[39m\u001b[22m\n",
      "Sklearn version: 0.19.1\n",
      "Pandas version:  0.20.1\n",
      "Numpy version: 1.13.3\n",
      "Matplotlib version: 2.1.0\n",
      "Seaborn version: 0.8.0\n",
      "All the data libraries have been successfully loaded\n"
     ]
    }
   ],
   "source": [
    "#Libraries for Data Science and ML ~ mlbyte\n",
    "import os\n",
    "import sys\n",
    "import os.path\n",
    "import cufflinks as cf\n",
    "import numpy as np\n",
    "import pandas as pd\n",
    "import matplotlib.pyplot as plt\n",
    "import matplotlib as mpl\n",
    "import seaborn as sns\n",
    "from tqdm import tqdm_notebook\n",
    "from matplotlib import rc\n",
    "from cycler import cycler\n",
    "from pyfiglet import Figlet\n",
    "from colorama import init\n",
    "from colorama import Fore, Back, Style\n",
    "from pyfiglet import Figlet\n",
    "import sklearn as sk\n",
    "from lightgbm import LGBMRegressor,LGBMClassifier,LGBMRegressor\n",
    "from xgboost import XGBClassifier,XGBRegressor\n",
    "from catboost import CatBoostClassifier,CatBoostRegressor,CatboostIpythonWidget\n",
    "from plotly.offline import download_plotlyjs, init_notebook_mode, plot, iplot\n",
    "\n",
    "\n",
    "\n",
    "#Params\n",
    "init_notebook_mode(connected=True)\n",
    "\n",
    "\n",
    "f = Figlet(font='cyberlarge')\n",
    "mpl.rcParams['axes.prop_cycle'] = cycler('color', ['#ff0000', '#0000ff',   '#00ffff','#ffA300', '#00ff00', \n",
    "     '#ff00ff', '#990000', '#009999', '#999900', '#009900', '#009999'])\n",
    "rc('font', size=16)\n",
    "rc('font',**{'family':'serif','serif':['Computer Modern']})\n",
    "rc('text', usetex=False)\n",
    "rc('figure', figsize=(12, 10))\n",
    "rc('axes', linewidth=.5)\n",
    "rc('lines', linewidth=1.75)\n",
    "print \"\\n\" + Style.BRIGHT + Fore.BLUE + f.renderText('MLBYTE')\n",
    "print  Fore.BLUE + Style.NORMAL + \" \"*25 +\"~ by Mohammad Shahebaz\"\n",
    "print  Fore.RESET + Style.NORMAL \n",
    "\n",
    "print \"Sklearn version:\", sk.__version__\n",
    "print \"Pandas version: \", pd.__version__\n",
    "print \"Numpy version:\", np.__version__\n",
    "print \"Matplotlib version:\", mpl.__version__\n",
    "print \"Seaborn version:\", sns.__version__\n",
    "    \n",
    "%matplotlib inline\n",
    "print('All the data libraries have been successfully loaded')"
   ]
  },
  {
   "cell_type": "code",
   "execution_count": 69,
   "metadata": {
    "collapsed": true
   },
   "outputs": [],
   "source": [
    "%macro -q mlbyte 68"
   ]
  },
  {
   "cell_type": "code",
   "execution_count": 71,
   "metadata": {},
   "outputs": [
    {
     "name": "stdout",
     "output_type": "stream",
     "text": [
      "Stored 'mlbyte' (Macro)\n"
     ]
    }
   ],
   "source": [
    "%store mlbyte"
   ]
  },
  {
   "cell_type": "code",
   "execution_count": 72,
   "metadata": {},
   "outputs": [
    {
     "name": "stdout",
     "output_type": "stream",
     "text": [
      "c = get_config()\r\n",
      "c.StoreMagics.autorestore = True\r\n"
     ]
    }
   ],
   "source": [
    "!echo \"c = get_config()\\nc.StoreMagics.autorestore = True\" > ~/.ipython/profile_default/ipython_config.py\n",
    "!cat ~/.ipython/profile_default/ipython_config.py"
   ]
  },
  {
   "cell_type": "code",
   "execution_count": null,
   "metadata": {
    "collapsed": true
   },
   "outputs": [],
   "source": []
  },
  {
   "cell_type": "code",
   "execution_count": null,
   "metadata": {
    "collapsed": true
   },
   "outputs": [],
   "source": []
  },
  {
   "cell_type": "code",
   "execution_count": null,
   "metadata": {
    "collapsed": true
   },
   "outputs": [],
   "source": []
  },
  {
   "cell_type": "code",
   "execution_count": null,
   "metadata": {
    "collapsed": true
   },
   "outputs": [],
   "source": []
  },
  {
   "cell_type": "code",
   "execution_count": null,
   "metadata": {
    "collapsed": true
   },
   "outputs": [],
   "source": []
  }
 ],
 "metadata": {
  "kernelspec": {
   "display_name": "Python 2",
   "language": "python",
   "name": "python2"
  },
  "language_info": {
   "codemirror_mode": {
    "name": "ipython",
    "version": 2
   },
   "file_extension": ".py",
   "mimetype": "text/x-python",
   "name": "python",
   "nbconvert_exporter": "python",
   "pygments_lexer": "ipython2",
   "version": "2.7.13"
  }
 },
 "nbformat": 4,
 "nbformat_minor": 2
}
